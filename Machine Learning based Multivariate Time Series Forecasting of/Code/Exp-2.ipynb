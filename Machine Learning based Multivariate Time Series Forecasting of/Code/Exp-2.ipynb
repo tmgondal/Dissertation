{
 "cells": [
  {
   "cell_type": "markdown",
   "id": "efa40236",
   "metadata": {},
   "source": [
    "# Machine Learning based Multivariate Time Series Forecasting of ISO New England Electricity Demand"
   ]
  },
  {
   "cell_type": "code",
   "execution_count": 1,
   "id": "74624a69",
   "metadata": {},
   "outputs": [],
   "source": [
    "import pandas as pd\n",
    "import matplotlib.pyplot as plt\n",
    "import seaborn as sns"
   ]
  },
  {
   "cell_type": "code",
   "execution_count": 2,
   "id": "512db1f3",
   "metadata": {},
   "outputs": [],
   "source": [
    "# Load the dataset\n",
    "df = pd.read_csv('covid-19.csv')"
   ]
  },
  {
   "cell_type": "code",
   "execution_count": 3,
   "id": "d5adfa48",
   "metadata": {},
   "outputs": [
    {
     "data": {
      "text/html": [
       "<div>\n",
       "<style scoped>\n",
       "    .dataframe tbody tr th:only-of-type {\n",
       "        vertical-align: middle;\n",
       "    }\n",
       "\n",
       "    .dataframe tbody tr th {\n",
       "        vertical-align: top;\n",
       "    }\n",
       "\n",
       "    .dataframe thead th {\n",
       "        text-align: right;\n",
       "    }\n",
       "</style>\n",
       "<table border=\"1\" class=\"dataframe\">\n",
       "  <thead>\n",
       "    <tr style=\"text-align: right;\">\n",
       "      <th></th>\n",
       "      <th>Date</th>\n",
       "      <th>Cured</th>\n",
       "      <th>Deaths</th>\n",
       "      <th>Confirmed</th>\n",
       "    </tr>\n",
       "  </thead>\n",
       "  <tbody>\n",
       "    <tr>\n",
       "      <th>0</th>\n",
       "      <td>3/2/2020</td>\n",
       "      <td>0.0</td>\n",
       "      <td>0.0</td>\n",
       "      <td>1.0</td>\n",
       "    </tr>\n",
       "    <tr>\n",
       "      <th>1</th>\n",
       "      <td>3/3/2020</td>\n",
       "      <td>0.0</td>\n",
       "      <td>0.0</td>\n",
       "      <td>1.0</td>\n",
       "    </tr>\n",
       "    <tr>\n",
       "      <th>2</th>\n",
       "      <td>3/4/2020</td>\n",
       "      <td>0.0</td>\n",
       "      <td>0.0</td>\n",
       "      <td>1.0</td>\n",
       "    </tr>\n",
       "    <tr>\n",
       "      <th>3</th>\n",
       "      <td>3/5/2020</td>\n",
       "      <td>0.0</td>\n",
       "      <td>0.0</td>\n",
       "      <td>2.0</td>\n",
       "    </tr>\n",
       "    <tr>\n",
       "      <th>4</th>\n",
       "      <td>3/6/2020</td>\n",
       "      <td>0.0</td>\n",
       "      <td>0.0</td>\n",
       "      <td>3.0</td>\n",
       "    </tr>\n",
       "  </tbody>\n",
       "</table>\n",
       "</div>"
      ],
      "text/plain": [
       "       Date  Cured  Deaths  Confirmed\n",
       "0  3/2/2020    0.0     0.0        1.0\n",
       "1  3/3/2020    0.0     0.0        1.0\n",
       "2  3/4/2020    0.0     0.0        1.0\n",
       "3  3/5/2020    0.0     0.0        2.0\n",
       "4  3/6/2020    0.0     0.0        3.0"
      ]
     },
     "execution_count": 3,
     "metadata": {},
     "output_type": "execute_result"
    }
   ],
   "source": [
    "df.head()"
   ]
  },
  {
   "cell_type": "markdown",
   "id": "4b8ff4bf",
   "metadata": {},
   "source": [
    "# Implementation of Machine Learning Algorithm"
   ]
  },
  {
   "cell_type": "markdown",
   "id": "cc8be24a",
   "metadata": {},
   "source": [
    "1- Random Forest\n",
    "\n",
    "2- CatBoost\n",
    "\n",
    "3- XGBoost\n",
    "\n",
    "4- Prophet \n"
   ]
  },
  {
   "cell_type": "markdown",
   "id": "21003c32",
   "metadata": {},
   "source": [
    "**Stationarity Check**"
   ]
  },
  {
   "cell_type": "code",
   "execution_count": 4,
   "id": "55853e97",
   "metadata": {},
   "outputs": [
    {
     "name": "stdout",
     "output_type": "stream",
     "text": [
      "ADF test for 'Deaths' column:\n",
      "ADF Statistic: -1.0177\n",
      "p-value: 0.7467\n",
      "Critical Values:\n",
      "   1%: -3.4395\n",
      "   5%: -2.8656\n",
      "   10%: -2.5689\n",
      "\n",
      "ADF test for 'Cured' column:\n",
      "ADF Statistic: -0.9152\n",
      "p-value: 0.7829\n",
      "Critical Values:\n",
      "   1%: -3.4394\n",
      "   5%: -2.8655\n",
      "   10%: -2.5689\n",
      "\n",
      "ADF test for 'Confirmed' column:\n",
      "ADF Statistic: -0.9817\n",
      "p-value: 0.7599\n",
      "Critical Values:\n",
      "   1%: -3.4393\n",
      "   5%: -2.8655\n",
      "   10%: -2.5689\n"
     ]
    }
   ],
   "source": [
    "from statsmodels.tsa.stattools import adfuller\n",
    "covid = pd.read_csv(\"covid-19.csv\")\n",
    "\n",
    "# ADF test for 'death' column\n",
    "death_adf = adfuller(covid['Deaths'])\n",
    "print(\"ADF test for 'Deaths' column:\")\n",
    "print(f\"ADF Statistic: {death_adf[0]:.4f}\")\n",
    "print(f\"p-value: {death_adf[1]:.4f}\")\n",
    "print(\"Critical Values:\")\n",
    "for key, value in death_adf[4].items():\n",
    "    print(f\"   {key}: {value:.4f}\")\n",
    "    \n",
    "# ADF test for 'drybulb' column\n",
    "Cured_adf = adfuller(covid['Cured'])\n",
    "print(\"\\nADF test for 'Cured' column:\")\n",
    "print(f\"ADF Statistic: {Cured_adf[0]:.4f}\")\n",
    "print(f\"p-value: {Cured_adf[1]:.4f}\")\n",
    "print(\"Critical Values:\")\n",
    "for key, value in Cured_adf[4].items():\n",
    "    print(f\"   {key}: {value:.4f}\")\n",
    "    \n",
    "# ADF test for 'Confirmed' column\n",
    "Confirmed_adf = adfuller(covid['Confirmed'])\n",
    "print(\"\\nADF test for 'Confirmed' column:\")\n",
    "print(f\"ADF Statistic: {Confirmed_adf[0]:.4f}\")\n",
    "print(f\"p-value: {Confirmed_adf[1]:.4f}\")\n",
    "print(\"Critical Values:\")\n",
    "for key, value in Confirmed_adf[4].items():\n",
    "    print(f\"   {key}: {value:.4f}\")\n",
    "\n"
   ]
  },
  {
   "cell_type": "markdown",
   "id": "301dade5",
   "metadata": {},
   "source": [
    "# 1- Random Forest"
   ]
  },
  {
   "cell_type": "code",
   "execution_count": 5,
   "id": "fcc8ef91",
   "metadata": {},
   "outputs": [],
   "source": [
    "# Import necessary libraries\n",
    "import pandas as pd\n",
    "import numpy as np\n",
    "from sklearn.ensemble import RandomForestRegressor\n",
    "from sklearn.metrics import mean_squared_error\n",
    "from sklearn.model_selection import train_test_split\n",
    "\n",
    "# Load the data\n",
    "df = pd.read_csv('covid-19.csv', index_col='Date', parse_dates=True)\n",
    "df = df[['Deaths', 'Cured','Confirmed']]\n",
    "\n",
    "# Create a lagged version of the demand variable to use as features\n",
    "df['Deaths_lagged'] = df['Deaths'].shift()\n",
    "\n",
    "# Split the data into training and testing sets\n",
    "train_size = int(len(df) * 0.8)\n",
    "train, test = df[:train_size], df[train_size:]\n",
    "\n",
    "# Split the training and testing sets into features and target variables\n",
    "train_X, train_y = train[['Deaths_lagged', 'Cured', 'Confirmed']], train['Deaths']\n",
    "test_X, test_y = test[['Deaths_lagged', 'Cured', 'Confirmed']], test['Deaths']"
   ]
  },
  {
   "cell_type": "code",
   "execution_count": 6,
   "id": "41c4e199",
   "metadata": {},
   "outputs": [],
   "source": [
    "# Fit a Random Forest model to the training data\n",
    "rf_model = RandomForestRegressor(n_estimators=100, random_state=0)\n"
   ]
  },
  {
   "cell_type": "code",
   "execution_count": 7,
   "id": "3ad812f6",
   "metadata": {},
   "outputs": [],
   "source": [
    "train_X = train_X.fillna(1)"
   ]
  },
  {
   "cell_type": "code",
   "execution_count": 8,
   "id": "9e7f8add",
   "metadata": {
    "scrolled": true
   },
   "outputs": [
    {
     "data": {
      "text/plain": [
       "RandomForestRegressor(random_state=0)"
      ]
     },
     "execution_count": 8,
     "metadata": {},
     "output_type": "execute_result"
    }
   ],
   "source": [
    "rf_model.fit(train_X, train_y)\n"
   ]
  },
  {
   "cell_type": "code",
   "execution_count": 9,
   "id": "c47cfd5d",
   "metadata": {},
   "outputs": [
    {
     "name": "stdout",
     "output_type": "stream",
     "text": [
      "Mean Squared Error: 19540.629669137765\n"
     ]
    }
   ],
   "source": [
    "# Make predictions on the test data\n",
    "predictions = rf_model.predict(test_X)\n",
    "\n",
    "# Calculate the mean squared error of the predictions\n",
    "mse = mean_squared_error(test_y, predictions)\n",
    "print('Mean Squared Error:', mse)"
   ]
  },
  {
   "cell_type": "markdown",
   "id": "b855b2c7",
   "metadata": {},
   "source": [
    "**Model Evaluation**"
   ]
  },
  {
   "cell_type": "code",
   "execution_count": 10,
   "id": "9bc31ad6",
   "metadata": {
    "scrolled": true
   },
   "outputs": [
    {
     "name": "stdout",
     "output_type": "stream",
     "text": [
      "Mean Squared Error: 19540.629669137765\n",
      "Root Mean Squared Error: 139.7878022902491\n",
      "Mean Absolute Error: 121.49999819998993\n",
      "R2 Score: -3.089383689336967\n"
     ]
    }
   ],
   "source": [
    "from sklearn.metrics import mean_squared_error, mean_absolute_error, r2_score\n",
    "# Calculate the mean squared error of the predictions\n",
    "mse = mean_squared_error(test_y, predictions)\n",
    "print('Mean Squared Error:', mse)\n",
    "\n",
    "# Calculate the root mean squared error\n",
    "rmse = np.sqrt(mse)\n",
    "print('Root Mean Squared Error:', rmse)\n",
    "\n",
    "# Calculate the mean absolute error\n",
    "mae = mean_absolute_error(test_y, predictions)\n",
    "print('Mean Absolute Error:', mae)\n",
    "\n",
    "# Calculate the R2 score\n",
    "r2 = r2_score(test_y, predictions)\n",
    "print('R2 Score:', r2)"
   ]
  },
  {
   "cell_type": "markdown",
   "id": "fe106c14",
   "metadata": {},
   "source": [
    "**Visualization(s)**"
   ]
  },
  {
   "cell_type": "code",
   "execution_count": 12,
   "id": "b839e833",
   "metadata": {},
   "outputs": [
    {
     "data": {
      "image/png": "[encoded data removed]",
      "text/plain": [
       "<Figure size 864x432 with 1 Axes>"
      ]
     },
     "metadata": {
      "needs_background": "light"
     },
     "output_type": "display_data"
    }
   ],
   "source": [
    "import matplotlib.pyplot as plt\n",
    "plt.figure(figsize=(12, 6))\n",
    "\n",
    "# Plot the actual values, training predictions, and testing predictions\n",
    "plt.plot(train_y.index, train_y, label='Train Data')\n",
    "plt.plot(test_y.index, test_y, label='Test Data')\n",
    "plt.plot(test_y.index, predictions, label='Predicted Data')\n",
    "plt.xlabel('Date')\n",
    "plt.ylabel('Demand')\n",
    "plt.legend()\n",
    "plt.show()"
   ]
  },
  {
   "cell_type": "code",
   "execution_count": null,
   "id": "a1647f3d",
   "metadata": {},
   "outputs": [],
   "source": []
  },
  {
   "cell_type": "markdown",
   "id": "daa7655b",
   "metadata": {},
   "source": [
    "# CATBOOST Algorithm"
   ]
  },
  {
   "cell_type": "code",
   "execution_count": 35,
   "id": "c568167e",
   "metadata": {},
   "outputs": [],
   "source": [
    "import pandas as pd\n",
    "import numpy as np\n",
    "from catboost import CatBoostRegressor\n",
    "from sklearn.metrics import mean_squared_error, mean_absolute_error, r2_score\n",
    "from sklearn.model_selection import train_test_split\n",
    "\n"
   ]
  },
  {
   "cell_type": "code",
   "execution_count": 36,
   "id": "01ef20ac",
   "metadata": {},
   "outputs": [],
   "source": [
    "# Load the data\n",
    "df = pd.read_csv('covid-19.csv', index_col='Date', parse_dates=True)\n",
    "df = df[['Deaths', 'Cured','Confirmed']]\n"
   ]
  },
  {
   "cell_type": "code",
   "execution_count": 37,
   "id": "7fcdeb56",
   "metadata": {},
   "outputs": [],
   "source": [
    "# Create a lagged version of the demand variable to use as features\n",
    "df['Deaths_lagged'] = df['Deaths'].shift()\n",
    "\n"
   ]
  },
  {
   "cell_type": "code",
   "execution_count": 38,
   "id": "67d851a9",
   "metadata": {},
   "outputs": [],
   "source": [
    "# Split the data into training and testing sets\n",
    "train_size = int(len(df) * 0.8)\n",
    "train, test = df[:train_size], df[train_size:]\n",
    "\n"
   ]
  },
  {
   "cell_type": "code",
   "execution_count": 39,
   "id": "a47b8d92",
   "metadata": {},
   "outputs": [],
   "source": [
    "# Split the training and testing sets into features and target variables\n",
    "train_X, train_y = train[['Deaths_lagged', 'Cured', 'Confirmed']], train['Deaths']\n",
    "test_X, test_y = test[['Deaths_lagged', 'Cured', 'Confirmed']], test['Deaths']\n"
   ]
  },
  {
   "cell_type": "code",
   "execution_count": 40,
   "id": "16ec122e",
   "metadata": {},
   "outputs": [],
   "source": [
    "# Fill missing values in the training and testing data\n",
    "train_X = train_X.fillna(1)\n",
    "test_X = test_X.fillna(1)\n",
    "\n"
   ]
  },
  {
   "cell_type": "code",
   "execution_count": 41,
   "id": "4fff046d",
   "metadata": {},
   "outputs": [],
   "source": [
    "from catboost import CatBoostRegressor, Pool\n",
    "\n",
    "# Convert the data into CatBoost's Pool format\n",
    "train_pool = Pool(train_X, train_y)\n",
    "test_pool = Pool(test_X, test_y)\n",
    "\n"
   ]
  },
  {
   "cell_type": "code",
   "execution_count": 42,
   "id": "1337ed75",
   "metadata": {},
   "outputs": [],
   "source": [
    "# Define the CatBoost model\n",
    "catboost_model = CatBoostRegressor(iterations=100, learning_rate=0.1, depth=6, random_seed=0)\n",
    "\n"
   ]
  },
  {
   "cell_type": "code",
   "execution_count": 43,
   "id": "1bb0eb0a",
   "metadata": {},
   "outputs": [
    {
     "name": "stdout",
     "output_type": "stream",
     "text": [
      "0:\tlearn: 8243.8791311\ttotal: 1.36ms\tremaining: 135ms\n",
      "1:\tlearn: 7476.7839040\ttotal: 2.89ms\tremaining: 141ms\n",
      "2:\tlearn: 6814.0688868\ttotal: 4.64ms\tremaining: 150ms\n",
      "3:\tlearn: 6215.9488202\ttotal: 5.5ms\tremaining: 132ms\n",
      "4:\tlearn: 5667.6130126\ttotal: 6.58ms\tremaining: 125ms\n",
      "5:\tlearn: 5140.5350835\ttotal: 7.75ms\tremaining: 121ms\n",
      "6:\tlearn: 4671.8869650\ttotal: 8.79ms\tremaining: 117ms\n",
      "7:\tlearn: 4251.9821519\ttotal: 10.3ms\tremaining: 118ms\n",
      "8:\tlearn: 3847.8790828\ttotal: 12ms\tremaining: 121ms\n",
      "9:\tlearn: 3500.6590653\ttotal: 13.2ms\tremaining: 119ms\n",
      "10:\tlearn: 3167.4998761\ttotal: 14.3ms\tremaining: 116ms\n",
      "11:\tlearn: 2878.7606824\ttotal: 15.3ms\tremaining: 112ms\n",
      "12:\tlearn: 2613.5360734\ttotal: 16.3ms\tremaining: 109ms\n",
      "13:\tlearn: 2373.4066848\ttotal: 17.4ms\tremaining: 107ms\n",
      "14:\tlearn: 2153.6578632\ttotal: 18.3ms\tremaining: 104ms\n",
      "15:\tlearn: 1960.0835316\ttotal: 19.3ms\tremaining: 101ms\n",
      "16:\tlearn: 1780.5101148\ttotal: 21.3ms\tremaining: 104ms\n",
      "17:\tlearn: 1628.3647170\ttotal: 23.1ms\tremaining: 105ms\n",
      "18:\tlearn: 1484.2520339\ttotal: 24.6ms\tremaining: 105ms\n",
      "19:\tlearn: 1352.9066133\ttotal: 25.8ms\tremaining: 103ms\n",
      "20:\tlearn: 1235.2348716\ttotal: 27ms\tremaining: 101ms\n",
      "21:\tlearn: 1127.3256194\ttotal: 28.1ms\tremaining: 99.7ms\n",
      "22:\tlearn: 1033.5052109\ttotal: 29.2ms\tremaining: 97.7ms\n",
      "23:\tlearn: 947.4762746\ttotal: 30.3ms\tremaining: 96.1ms\n",
      "24:\tlearn: 872.4733346\ttotal: 31.8ms\tremaining: 95.4ms\n",
      "25:\tlearn: 802.1442662\ttotal: 34.5ms\tremaining: 98.2ms\n",
      "26:\tlearn: 735.0639895\ttotal: 36.3ms\tremaining: 98.1ms\n",
      "27:\tlearn: 677.3451583\ttotal: 38.5ms\tremaining: 99.1ms\n",
      "28:\tlearn: 622.3227478\ttotal: 40.4ms\tremaining: 98.8ms\n",
      "29:\tlearn: 580.2931078\ttotal: 41.7ms\tremaining: 97.3ms\n",
      "30:\tlearn: 541.2283353\ttotal: 43.2ms\tremaining: 96.2ms\n",
      "31:\tlearn: 505.1723187\ttotal: 45.1ms\tremaining: 95.8ms\n",
      "32:\tlearn: 474.0193893\ttotal: 46.8ms\tremaining: 95ms\n",
      "33:\tlearn: 448.2600567\ttotal: 48.1ms\tremaining: 93.3ms\n",
      "34:\tlearn: 426.1331941\ttotal: 49.3ms\tremaining: 91.6ms\n",
      "35:\tlearn: 401.6059290\ttotal: 50.4ms\tremaining: 89.6ms\n",
      "36:\tlearn: 375.7540988\ttotal: 51.4ms\tremaining: 87.6ms\n",
      "37:\tlearn: 357.8510277\ttotal: 53.3ms\tremaining: 87ms\n",
      "38:\tlearn: 342.7687055\ttotal: 54.7ms\tremaining: 85.5ms\n",
      "39:\tlearn: 328.4816773\ttotal: 55.4ms\tremaining: 83.1ms\n",
      "40:\tlearn: 313.0487229\ttotal: 57ms\tremaining: 82.1ms\n",
      "41:\tlearn: 302.1044683\ttotal: 58.2ms\tremaining: 80.3ms\n",
      "42:\tlearn: 288.7193610\ttotal: 59.3ms\tremaining: 78.6ms\n",
      "43:\tlearn: 276.7116877\ttotal: 60.5ms\tremaining: 77ms\n",
      "44:\tlearn: 263.8806690\ttotal: 61.8ms\tremaining: 75.5ms\n",
      "45:\tlearn: 253.6949538\ttotal: 62.9ms\tremaining: 73.8ms\n",
      "46:\tlearn: 244.7131647\ttotal: 64.2ms\tremaining: 72.4ms\n",
      "47:\tlearn: 238.1517745\ttotal: 65.5ms\tremaining: 70.9ms\n",
      "48:\tlearn: 230.9836377\ttotal: 66.6ms\tremaining: 69.3ms\n",
      "49:\tlearn: 226.2186322\ttotal: 67.8ms\tremaining: 67.8ms\n",
      "50:\tlearn: 221.9341869\ttotal: 69.1ms\tremaining: 66.4ms\n",
      "51:\tlearn: 214.8445637\ttotal: 70.3ms\tremaining: 64.9ms\n",
      "52:\tlearn: 211.4777627\ttotal: 71.6ms\tremaining: 63.5ms\n",
      "53:\tlearn: 208.1057235\ttotal: 72.8ms\tremaining: 62ms\n",
      "54:\tlearn: 205.6907886\ttotal: 74ms\tremaining: 60.5ms\n",
      "55:\tlearn: 199.5619169\ttotal: 75.3ms\tremaining: 59.2ms\n",
      "56:\tlearn: 194.8248533\ttotal: 76.4ms\tremaining: 57.7ms\n",
      "57:\tlearn: 191.9882170\ttotal: 77.5ms\tremaining: 56.2ms\n",
      "58:\tlearn: 190.5849664\ttotal: 78.7ms\tremaining: 54.7ms\n",
      "59:\tlearn: 188.4502069\ttotal: 79.9ms\tremaining: 53.2ms\n",
      "60:\tlearn: 184.0948665\ttotal: 81ms\tremaining: 51.8ms\n",
      "61:\tlearn: 180.7106188\ttotal: 82ms\tremaining: 50.3ms\n",
      "62:\tlearn: 177.8688589\ttotal: 83.1ms\tremaining: 48.8ms\n",
      "63:\tlearn: 176.4894363\ttotal: 84.2ms\tremaining: 47.3ms\n",
      "64:\tlearn: 173.1737355\ttotal: 85.1ms\tremaining: 45.8ms\n",
      "65:\tlearn: 171.9700602\ttotal: 86.2ms\tremaining: 44.4ms\n",
      "66:\tlearn: 168.8587251\ttotal: 87.2ms\tremaining: 43ms\n",
      "67:\tlearn: 167.7207801\ttotal: 88.3ms\tremaining: 41.5ms\n",
      "68:\tlearn: 164.9493899\ttotal: 89.4ms\tremaining: 40.2ms\n",
      "69:\tlearn: 163.8679755\ttotal: 90.4ms\tremaining: 38.7ms\n",
      "70:\tlearn: 160.4338432\ttotal: 91.4ms\tremaining: 37.3ms\n",
      "71:\tlearn: 158.5307727\ttotal: 92.4ms\tremaining: 35.9ms\n",
      "72:\tlearn: 157.3144467\ttotal: 93.4ms\tremaining: 34.5ms\n",
      "73:\tlearn: 156.3876681\ttotal: 94.4ms\tremaining: 33.2ms\n",
      "74:\tlearn: 155.7760199\ttotal: 95.5ms\tremaining: 31.8ms\n",
      "75:\tlearn: 154.1562999\ttotal: 96.5ms\tremaining: 30.5ms\n",
      "76:\tlearn: 151.7254119\ttotal: 97.5ms\tremaining: 29.1ms\n",
      "77:\tlearn: 150.5793345\ttotal: 98.6ms\tremaining: 27.8ms\n",
      "78:\tlearn: 149.7469537\ttotal: 99.6ms\tremaining: 26.5ms\n",
      "79:\tlearn: 148.7612900\ttotal: 101ms\tremaining: 25.2ms\n",
      "80:\tlearn: 147.6036727\ttotal: 102ms\tremaining: 23.8ms\n",
      "81:\tlearn: 146.7988021\ttotal: 103ms\tremaining: 22.5ms\n",
      "82:\tlearn: 145.0037736\ttotal: 104ms\tremaining: 21.3ms\n",
      "83:\tlearn: 144.3732606\ttotal: 105ms\tremaining: 20.1ms\n",
      "84:\tlearn: 143.1410917\ttotal: 106ms\tremaining: 18.8ms\n",
      "85:\tlearn: 141.0387536\ttotal: 107ms\tremaining: 17.5ms\n",
      "86:\tlearn: 139.1954371\ttotal: 109ms\tremaining: 16.2ms\n",
      "87:\tlearn: 138.3344739\ttotal: 110ms\tremaining: 14.9ms\n",
      "88:\tlearn: 137.1845781\ttotal: 111ms\tremaining: 13.7ms\n",
      "89:\tlearn: 136.7568028\ttotal: 112ms\tremaining: 12.5ms\n",
      "90:\tlearn: 136.0495134\ttotal: 114ms\tremaining: 11.2ms\n",
      "91:\tlearn: 134.8558167\ttotal: 115ms\tremaining: 9.98ms\n",
      "92:\tlearn: 134.3782302\ttotal: 116ms\tremaining: 8.72ms\n",
      "93:\tlearn: 133.2316856\ttotal: 117ms\tremaining: 7.46ms\n",
      "94:\tlearn: 131.8068867\ttotal: 118ms\tremaining: 6.21ms\n",
      "95:\tlearn: 130.9082712\ttotal: 119ms\tremaining: 4.96ms\n",
      "96:\tlearn: 130.2796163\ttotal: 120ms\tremaining: 3.71ms\n",
      "97:\tlearn: 128.8516691\ttotal: 121ms\tremaining: 2.47ms\n",
      "98:\tlearn: 128.0370927\ttotal: 122ms\tremaining: 1.23ms\n",
      "99:\tlearn: 127.2256171\ttotal: 123ms\tremaining: 0us\n"
     ]
    },
    {
     "data": {
      "text/plain": [
       "<catboost.core.CatBoostRegressor at 0x27f67ae6250>"
      ]
     },
     "execution_count": 43,
     "metadata": {},
     "output_type": "execute_result"
    }
   ],
   "source": [
    "# Fit the model to the training data\n",
    "catboost_model.fit(train_pool)\n",
    "\n"
   ]
  },
  {
   "cell_type": "code",
   "execution_count": 46,
   "id": "10be087c",
   "metadata": {},
   "outputs": [],
   "source": [
    "# Make predictions on the test data\n",
    "predictions = catboost_model.predict(test_pool)\n",
    "\n"
   ]
  },
  {
   "cell_type": "markdown",
   "id": "55821da3",
   "metadata": {},
   "source": [
    "**Model Evaluation**"
   ]
  },
  {
   "cell_type": "code",
   "execution_count": 48,
   "id": "21fd51ca",
   "metadata": {},
   "outputs": [
    {
     "name": "stdout",
     "output_type": "stream",
     "text": [
      "Mean Squared Error: 40768.267417523464\n",
      "Root Mean Squared Error: 201.91153364165075\n",
      "Mean Absolute Error: 189.7100084628728\n",
      "R2 Score: -7.531817584315574\n"
     ]
    }
   ],
   "source": [
    "# Calculate the mean squared error of the predictions\n",
    "mse = mean_squared_error(test_y, predictions)\n",
    "print('Mean Squared Error:', mse)\n",
    "\n",
    "# Calculate the root mean squared error\n",
    "rmse = np.sqrt(mse)\n",
    "print('Root Mean Squared Error:', rmse)\n",
    "\n",
    "# Calculate the mean absolute error\n",
    "mae = mean_absolute_error(test_y, predictions)\n",
    "print('Mean Absolute Error:', mae)\n",
    "\n",
    "# Calculate the R2 score\n",
    "r2 = r2_score(test_y, predictions)\n",
    "print('R2 Score:', r2)\n"
   ]
  },
  {
   "cell_type": "markdown",
   "id": "db32f07f",
   "metadata": {},
   "source": [
    "**Visualization(s)**"
   ]
  },
  {
   "cell_type": "code",
   "execution_count": 52,
   "id": "e270dc55",
   "metadata": {},
   "outputs": [
    {
     "data": {
      "image/png": "[encoded data removed]",
      "text/plain": [
       "<Figure size 864x432 with 1 Axes>"
      ]
     },
     "metadata": {
      "needs_background": "light"
     },
     "output_type": "display_data"
    }
   ],
   "source": [
    "# Make predictions on the training and test sets\n",
    "train_predictions = catboost_model.predict(train_pool)\n",
    "test_predictions = catboost_model.predict(test_pool)\n",
    "\n",
    "# Plot the actual values, training predictions, and testing predictions\n",
    "plt.figure(figsize=(12, 6))\n",
    "plt.plot(train_y.index, train_y, label='Train Data', color='blue')\n",
    "plt.plot(test_y.index, test_y, label='Test Data', color='green')\n",
    "plt.plot(test_y.index, test_predictions, label='Predicted Data', color='red')\n",
    "plt.xlabel('Date')\n",
    "plt.ylabel('Demand')\n",
    "plt.legend()\n",
    "plt.title('Actual vs. Predicted Demand (CatBoost)')\n",
    "plt.show()"
   ]
  },
  {
   "cell_type": "markdown",
   "id": "7bbbb122",
   "metadata": {},
   "source": [
    "# 03- XGBoost"
   ]
  },
  {
   "cell_type": "code",
   "execution_count": 26,
   "id": "e7d66780",
   "metadata": {},
   "outputs": [],
   "source": [
    "import pandas as pd\n",
    "import numpy as np\n",
    "from xgboost import XGBRegressor\n",
    "from sklearn.metrics import mean_squared_error\n",
    "import matplotlib.pyplot as plt\n",
    "\n",
    "\n"
   ]
  },
  {
   "cell_type": "code",
   "execution_count": 27,
   "id": "c1c9e827",
   "metadata": {},
   "outputs": [
    {
     "data": {
      "text/plain": [
       "XGBRegressor(base_score=None, booster=None, callbacks=None,\n",
       "             colsample_bylevel=None, colsample_bynode=None,\n",
       "             colsample_bytree=None, early_stopping_rounds=None,\n",
       "             enable_categorical=False, eval_metric=None, feature_types=None,\n",
       "             gamma=None, gpu_id=None, grow_policy=None, importance_type=None,\n",
       "             interaction_constraints=None, learning_rate=0.1, max_bin=None,\n",
       "             max_cat_threshold=None, max_cat_to_onehot=None,\n",
       "             max_delta_step=None, max_depth=None, max_leaves=None,\n",
       "             min_child_weight=None, missing=nan, monotone_constraints=None,\n",
       "             n_estimators=100, n_jobs=None, num_parallel_tree=None,\n",
       "             predictor=None, random_state=0, ...)"
      ]
     },
     "execution_count": 27,
     "metadata": {},
     "output_type": "execute_result"
    }
   ],
   "source": [
    "# Train the XGBoost model\n",
    "xgb_model = XGBRegressor(n_estimators=100, learning_rate=0.1, random_state=0)\n",
    "xgb_model.fit(train_X, train_y)\n",
    "\n"
   ]
  },
  {
   "cell_type": "code",
   "execution_count": 28,
   "id": "e6d2c88d",
   "metadata": {},
   "outputs": [
    {
     "name": "stdout",
     "output_type": "stream",
     "text": [
      "Mean Squared Error: 21611.415323825364\n",
      "Mean Absolute Error: 129.7421875\n",
      "Root Mean Squared Error: 147.0082151576073\n",
      "R-squared (R2): -3.522749308755418\n"
     ]
    }
   ],
   "source": [
    "# Make predictions on the test data\n",
    "predictions = xgb_model.predict(test_X)\n",
    "\n",
    "# Calculate the evaluation metrics\n",
    "mse = mean_squared_error(test_y, predictions)\n",
    "mae = mean_absolute_error(test_y, predictions)\n",
    "rmse = np.sqrt(mse)\n",
    "r2 = r2_score(test_y, predictions)\n",
    "\n",
    "print('Mean Squared Error:', mse)\n",
    "print('Mean Absolute Error:', mae)\n",
    "print('Root Mean Squared Error:', rmse)\n",
    "print('R-squared (R2):', r2)"
   ]
  },
  {
   "cell_type": "code",
   "execution_count": 30,
   "id": "fcbe23c3",
   "metadata": {},
   "outputs": [
    {
     "data": {
      "image/png": "[encoded data removed]",
      "text/plain": [
       "<Figure size 864x432 with 1 Axes>"
      ]
     },
     "metadata": {
      "needs_background": "light"
     },
     "output_type": "display_data"
    }
   ],
   "source": [
    "# Plot the actual values, training predictions, and testing predictions\n",
    "plt.figure(figsize=(12, 6))\n",
    "plt.plot(train_y.index, train_y, label='Train Data', color='brown')\n",
    "plt.plot(test_y.index, test_y, label='Test Data', color='black')\n",
    "plt.plot(test_y.index, test_predictions, label='Predicted Data', color='red')\n",
    "plt.xlabel('Date')\n",
    "plt.ylabel('Demand')\n",
    "plt.legend()\n",
    "plt.title('Actual vs. Predicted Demand (XGBoost)')\n",
    "plt.show()"
   ]
  },
  {
   "cell_type": "markdown",
   "id": "8441f405",
   "metadata": {},
   "source": [
    "# 04- Prophet Algorithm"
   ]
  },
  {
   "cell_type": "code",
   "execution_count": 31,
   "id": "a3c7cc6c",
   "metadata": {},
   "outputs": [
    {
     "name": "stderr",
     "output_type": "stream",
     "text": [
      "13:05:34 - cmdstanpy - INFO - Chain [1] start processing\n",
      "13:05:36 - cmdstanpy - INFO - Chain [1] done processing\n"
     ]
    },
    {
     "data": {
      "image/png": "[encoded data removed]",
      "text/plain": [
       "<Figure size 864x432 with 1 Axes>"
      ]
     },
     "metadata": {
      "needs_background": "light"
     },
     "output_type": "display_data"
    }
   ],
   "source": [
    "import pandas as pd\n",
    "import numpy as np\n",
    "from prophet import Prophet\n",
    "import matplotlib.pyplot as plt\n",
    "# Load the data\n",
    "df = pd.read_csv('covid-19.csv', index_col='Date', parse_dates=True)\n",
    "df = df[['Deaths', 'Cured','Confirmed']]\n",
    "\n",
    "# Create a lagged version of the demand variable to use as features\n",
    "df['Deaths_lagged'] = df['Deaths'].shift()\n",
    "\n",
    "\n",
    "# Split the data into training and testing sets\n",
    "train_size = int(len(df) * 0.8)\n",
    "train, test = df[:train_size], df[train_size:]\n",
    "\n",
    "# Fill missing values with 1 (alternatively, you can use other methods to handle missing values)\n",
    "train = train.fillna(1)\n",
    "test = test.fillna(1)\n",
    "\n",
    "# Prepare the DataFrame for Prophet\n",
    "train_prophet = train.reset_index()\n",
    "train_prophet.rename(columns={'Date': 'ds', 'Deaths': 'y'}, inplace=True)\n",
    "\n",
    "# Train the Prophet model\n",
    "prophet_model = Prophet()\n",
    "prophet_model.add_regressor('Cured')\n",
    "prophet_model.add_regressor('Confirmed')\n",
    "prophet_model.fit(train_prophet)\n",
    "\n",
    "# Make future predictions for the test set\n",
    "test_prophet = test.reset_index()\n",
    "test_prophet.rename(columns={'Date': 'ds', 'Deaths': 'y'}, inplace=True)\n",
    "test_prophet['Cured'] = test['Cured'].values\n",
    "test_prophet['Confirmed'] = test['Confirmed'].values\n",
    "\n",
    "forecast = prophet_model.predict(test_prophet)\n",
    "\n",
    "# Extracting the actual and predicted values\n",
    "actual_values = test['Deaths'].values\n",
    "predicted_values = forecast['yhat'].values\n",
    "\n",
    "# Plot the actual values and the predicted values\n",
    "plt.figure(figsize=(12, 6))\n",
    "plt.plot(test.index, actual_values, label='Actual Demand', color='blue')\n",
    "plt.plot(test.index, predicted_values, label='Predicted Demand', color='red')\n",
    "plt.xlabel('Date')\n",
    "plt.ylabel('Demand')\n",
    "plt.title('Actual vs. Predicted Demand (Prophet)')\n",
    "plt.legend()\n",
    "plt.show()\n"
   ]
  },
  {
   "cell_type": "code",
   "execution_count": 33,
   "id": "d56277b4",
   "metadata": {},
   "outputs": [
    {
     "name": "stdout",
     "output_type": "stream",
     "text": [
      "Mean Squared Error: 21611.415323825364\n",
      "Mean Absolute Error: 129.7421875\n",
      "R-squared (R2): -3.522749308755418\n",
      "Root Mean Squared Error: 147.0082151576073\n"
     ]
    }
   ],
   "source": [
    "# Calculate the evaluation metrics\n",
    "mse = mean_squared_error(test_y, predictions)\n",
    "mae = mean_absolute_error(test_y, predictions)\n",
    "r2 = r2_score(test_y, predictions)\n",
    "rmse = np.sqrt(mse)\n",
    "\n",
    "\n",
    "print('Mean Squared Error:', mse)\n",
    "print('Mean Absolute Error:', mae)\n",
    "print('R-squared (R2):', r2)\n",
    "print('Root Mean Squared Error:', rmse)\n"
   ]
  },
  {
   "cell_type": "markdown",
   "id": "68bb0ffb",
   "metadata": {},
   "source": [
    "# Computational Complexity Analysis"
   ]
  },
  {
   "cell_type": "code",
   "execution_count": 34,
   "id": "9afa17af",
   "metadata": {},
   "outputs": [
    {
     "name": "stderr",
     "output_type": "stream",
     "text": [
      "13:05:38 - cmdstanpy - INFO - Chain [1] start processing\n",
      "13:05:38 - cmdstanpy - INFO - Chain [1] done processing\n"
     ]
    },
    {
     "data": {
      "image/png": "[encoded data removed]",
      "text/plain": [
       "<Figure size 864x432 with 1 Axes>"
      ]
     },
     "metadata": {
      "needs_background": "light"
     },
     "output_type": "display_data"
    },
    {
     "name": "stdout",
     "output_type": "stream",
     "text": [
      "Random Forest - Training Time: 0.1716 seconds\n",
      "Random Forest - Prediction Time: 0.0090 seconds\n",
      "Random Forest - Total Time: 0.1805 seconds\n",
      "\n",
      "CatBoost - Training Time: 0.1965 seconds\n",
      "CatBoost - Prediction Time: 0.0010 seconds\n",
      "CatBoost - Total Time: 0.1975 seconds\n",
      "\n",
      "XGBoost - Training Time: 0.0568 seconds\n",
      "XGBoost - Prediction Time: 0.0020 seconds\n",
      "XGBoost - Total Time: 0.0588 seconds\n",
      "\n",
      "Prophet - Training Time: 0.5854 seconds\n",
      "Prophet - Prediction Time: 0.0888 seconds\n",
      "Prophet - Total Time: 0.6742 seconds\n",
      "\n"
     ]
    }
   ],
   "source": [
    "# Store the algorithm names\n",
    "import time\n",
    "\n",
    "algorithm_names = ['Random Forest', 'CatBoost', 'XGBoost', 'Prophet']\n",
    "\n",
    "# Initialize lists to store training, prediction, and total times\n",
    "training_times = []\n",
    "prediction_times = []\n",
    "total_times = []\n",
    "\n",
    "# Random Forest\n",
    "rf_model = RandomForestRegressor(n_estimators=100, random_state=0)\n",
    "start_time = time.time()\n",
    "rf_model.fit(train_X, train_y)\n",
    "training_time_rf = time.time() - start_time\n",
    "\n",
    "start_time = time.time()\n",
    "rf_predictions = rf_model.predict(test_X)\n",
    "prediction_time_rf = time.time() - start_time\n",
    "\n",
    "# CatBoost\n",
    "catboost_model = CatBoostRegressor(n_estimators=100, random_state=0, verbose=0)\n",
    "start_time = time.time()\n",
    "catboost_model.fit(train_X, train_y)\n",
    "training_time_catboost = time.time() - start_time\n",
    "\n",
    "start_time = time.time()\n",
    "catboost_predictions = catboost_model.predict(test_X)\n",
    "prediction_time_catboost = time.time() - start_time\n",
    "\n",
    "# XGBoost\n",
    "xgb_model = XGBRegressor(n_estimators=100, learning_rate=0.1, random_state=0)\n",
    "start_time = time.time()\n",
    "xgb_model.fit(train_X, train_y)\n",
    "training_time_xgb = time.time() - start_time\n",
    "\n",
    "start_time = time.time()\n",
    "xgb_predictions = xgb_model.predict(test_X)\n",
    "prediction_time_xgb = time.time() - start_time\n",
    "\n",
    "# Prophet\n",
    "train_prophet = train[['Deaths']].reset_index()\n",
    "train_prophet.rename(columns={'Date': 'ds', 'Deaths': 'y'}, inplace=True)\n",
    "\n",
    "prophet_model = Prophet()\n",
    "start_time = time.time()\n",
    "prophet_model.fit(train_prophet)\n",
    "training_time_prophet = time.time() - start_time\n",
    "\n",
    "test_prophet = test[['Deaths']].reset_index()\n",
    "test_prophet.rename(columns={'Date': 'ds', 'Deaths': 'y'}, inplace=True)\n",
    "test_prophet['Cured'] = test['Cured'].values\n",
    "test_prophet['Confirmed'] = test['Confirmed'].values\n",
    "\n",
    "start_time = time.time()\n",
    "forecast = prophet_model.predict(test_prophet)\n",
    "prophet_predictions = forecast['yhat'].values\n",
    "prediction_time_prophet = time.time() - start_time\n",
    "\n",
    "# Calculate total times\n",
    "total_time_rf = training_time_rf + prediction_time_rf\n",
    "total_time_catboost = training_time_catboost + prediction_time_catboost\n",
    "total_time_xgb = training_time_xgb + prediction_time_xgb\n",
    "total_time_prophet = training_time_prophet + prediction_time_prophet\n",
    "\n",
    "# Store times in lists\n",
    "training_times = [training_time_rf, training_time_catboost, training_time_xgb, training_time_prophet]\n",
    "prediction_times = [prediction_time_rf, prediction_time_catboost, prediction_time_xgb, prediction_time_prophet]\n",
    "total_times = [total_time_rf, total_time_catboost, total_time_xgb, total_time_prophet]\n",
    "\n",
    "# Create a bar plot to visualize the training, prediction, and total times\n",
    "plt.figure(figsize=(12, 6))\n",
    "plt.bar(algorithm_names, training_times, label='Training Time', color='blue', alpha=0.7)\n",
    "plt.bar(algorithm_names, prediction_times, label='Prediction Time', color='red', alpha=0.7)\n",
    "plt.bar(algorithm_names, total_times, label='Total Time', color='green', alpha=0.7)\n",
    "plt.xlabel('Algorithms')\n",
    "plt.ylabel('Time (seconds)')\n",
    "plt.title('Computational Time Comparison')\n",
    "plt.legend()\n",
    "plt.show()\n",
    "\n",
    "# Print the values\n",
    "for i, algorithm in enumerate(algorithm_names):\n",
    "    print(f'{algorithm} - Training Time: {training_times[i]:.4f} seconds')\n",
    "    print(f'{algorithm} - Prediction Time: {prediction_times[i]:.4f} seconds')\n",
    "    print(f'{algorithm} - Total Time: {total_times[i]:.4f} seconds')\n",
    "    print()\n"
   ]
  },
  {
   "cell_type": "code",
   "execution_count": null,
   "id": "36255597",
   "metadata": {},
   "outputs": [],
   "source": []
  }
 ],
 "metadata": {
  "kernelspec": {
   "display_name": "Python 3 (ipykernel)",
   "language": "python",
   "name": "python3"
  },
  "language_info": {
   "codemirror_mode": {
    "name": "ipython",
    "version": 3
   },
   "file_extension": ".py",
   "mimetype": "text/x-python",
   "name": "python",
   "nbconvert_exporter": "python",
   "pygments_lexer": "ipython3",
   "version": "3.9.12"
  }
 },
 "nbformat": 4,
 "nbformat_minor": 5
}
